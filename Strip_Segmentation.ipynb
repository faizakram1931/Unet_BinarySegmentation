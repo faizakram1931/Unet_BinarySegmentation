{
  "cells": [
    {
      "cell_type": "code",
      "execution_count": null,
      "metadata": {
        "id": "sk7PNlxsRrNs"
      },
      "outputs": [],
      "source": [
        "!pip install -U albumentations>=0.3.0 --user \n",
        "!pip install -U --pre segmentation-models --user\n",
        "!pip install -U albumentations==0.3.0\n",
        "!pip install --upgrade albumentations"
      ]
    },
    {
      "cell_type": "code",
      "execution_count": null,
      "metadata": {
        "id": "Q1iMrT7Bb0eo"
      },
      "outputs": [],
      "source": [
        "import tensorflow as tf\n",
        "print(tf. __version__)"
      ]
    },
    {
      "cell_type": "code",
      "execution_count": null,
      "metadata": {
        "id": "Oyx7jLWiTBCy"
      },
      "outputs": [],
      "source": [
        "import os\n",
        "os.environ['CUDA_VISIBLE_DEVICES'] = '0'\n",
        "import cv2\n",
        "import keras\n",
        "import numpy as np\n",
        "import matplotlib.pyplot as plt\n",
        "import tensorflow as tf"
      ]
    },
    {
      "cell_type": "code",
      "execution_count": null,
      "metadata": {
        "id": "1wWpKDfJi82u"
      },
      "outputs": [],
      "source": [
        "decompress = False\n",
        "if(decompress == True):\n",
        "  import zipfile\n",
        "  with zipfile.ZipFile('/content/dataset.zip', 'r') as zip_ref:\n",
        "      zip_ref.extractall('/content/data/mydataset')"
      ]
    },
    {
      "cell_type": "code",
      "execution_count": null,
      "metadata": {
        "id": "mwI6RZpyXXeY"
      },
      "outputs": [],
      "source": [
        "DATA_DIR = '/content/data/mydataset/dataset/'\n",
        "\n",
        "# load repo with data if it is not exists\n",
        "if not os.path.exists(DATA_DIR):\n",
        "    print('Loading data...')\n",
        "    os.system('git clone https://github.com/alexgkendall/SegNet-Tutorial ./data')\n",
        "    print('Done!')"
      ]
    },
    {
      "cell_type": "code",
      "execution_count": null,
      "metadata": {
        "id": "sCdVcQVxZ3Ab"
      },
      "outputs": [],
      "source": [
        "x_train_dir = os.path.join(DATA_DIR, 'train')\n",
        "y_train_dir = os.path.join(DATA_DIR, 'trainannot')\n",
        "\n",
        "x_valid_dir = os.path.join(DATA_DIR, 'val')\n",
        "y_valid_dir = os.path.join(DATA_DIR, 'valannot')\n",
        "\n",
        "x_test_dir = os.path.join(DATA_DIR, 'test')\n",
        "y_test_dir = os.path.join(DATA_DIR, 'testannot')"
      ]
    },
    {
      "cell_type": "code",
      "execution_count": null,
      "metadata": {
        "id": "z9OFZkKUaAje"
      },
      "outputs": [],
      "source": [
        "# helper function for data visualization\n",
        "def visualize(**images):\n",
        "    \"\"\"PLot images in one row.\"\"\"\n",
        "    n = len(images)\n",
        "    plt.figure(figsize=(16, 5))\n",
        "    for i, (name, image) in enumerate(images.items()):\n",
        "        plt.subplot(1, n, i + 1)\n",
        "        plt.xticks([])\n",
        "        plt.yticks([])\n",
        "        plt.title(' '.join(name.split('_')).title())\n",
        "        plt.imshow(image)\n",
        "    plt.show()\n",
        "    \n",
        "# helper function for data visualization    \n",
        "def denormalize(x):\n",
        "    \"\"\"Scale image to range 0..1 for correct plot\"\"\"\n",
        "    x_max = np.percentile(x, 98)\n",
        "    x_min = np.percentile(x, 2)    \n",
        "    x = (x - x_min) / (x_max - x_min)\n",
        "    x = x.clip(0, 1)\n",
        "    return x\n",
        "    \n",
        "\n",
        "# classes for data loading and preprocessing\n",
        "class Dataset:\n",
        "    \"\"\"CamVid Dataset. Read images, apply augmentation and preprocessing transformations.\n",
        "    \n",
        "    Args:\n",
        "        images_dir (str): path to images folder\n",
        "        masks_dir (str): path to segmentation masks folder\n",
        "        class_values (list): values of classes to extract from segmentation mask\n",
        "        augmentation (albumentations.Compose): data transfromation pipeline \n",
        "            (e.g. flip, scale, etc.)\n",
        "        preprocessing (albumentations.Compose): data preprocessing \n",
        "            (e.g. noralization, shape manipulation, etc.)\n",
        "    \n",
        "    \"\"\"\n",
        "    \n",
        "    CLASSES = ['background','strip']\n",
        "    \n",
        "    def __init__(\n",
        "            self, \n",
        "            images_dir, \n",
        "            masks_dir, \n",
        "            classes=None, \n",
        "            augmentation=None, \n",
        "            preprocessing=None,\n",
        "    ):\n",
        "        self.ids = os.listdir(images_dir)\n",
        "        self.images_fps = [os.path.join(images_dir, image_id) for image_id in self.ids]\n",
        "        self.masks_fps = [os.path.join(masks_dir, image_id) for image_id in self.ids]\n",
        "        \n",
        "        # convert str names to class values on masks\n",
        "        self.class_values = [self.CLASSES.index(cls.lower()) for cls in classes]\n",
        "        \n",
        "        self.augmentation = augmentation\n",
        "        self.preprocessing = preprocessing\n",
        "    \n",
        "    def __getitem__(self, i):\n",
        "        \n",
        "        # read data\n",
        "        image = cv2.imread(self.images_fps[i])\n",
        "        image = cv2.cvtColor(image, cv2.COLOR_BGR2RGB)\n",
        "        mask = cv2.imread(self.masks_fps[i], 0)\n",
        "        \n",
        "        # extract certain classes from mask (e.g. cars)\n",
        "        masks = [(mask == v) for v in self.class_values]\n",
        "        mask = np.stack(masks, axis=-1).astype('float')\n",
        "        \n",
        "        # add background if mask is not binary\n",
        "        if mask.shape[-1] != 1:\n",
        "            background = 1 - mask.sum(axis=-1, keepdims=True)\n",
        "            mask = np.concatenate((mask, background), axis=-1)\n",
        "        \n",
        "        # apply augmentations\n",
        "        if self.augmentation:\n",
        "            sample = self.augmentation(image=image, mask=mask)\n",
        "            image, mask = sample['image'], sample['mask']\n",
        "        \n",
        "        # apply preprocessing\n",
        "        if self.preprocessing:\n",
        "            sample = self.preprocessing(image=image, mask=mask)\n",
        "            image, mask = sample['image'], sample['mask']\n",
        "            \n",
        "        return image, mask\n",
        "        \n",
        "    def __len__(self):\n",
        "        return len(self.ids)\n",
        "    \n",
        "    \n",
        "class Dataloder(tf.keras.utils.Sequence):\n",
        "    \"\"\"Load data from dataset and form batches\n",
        "    \n",
        "    Args:\n",
        "        dataset: instance of Dataset class for image loading and preprocessing.\n",
        "        batch_size: Integet number of images in batch.\n",
        "        shuffle: Boolean, if `True` shuffle image indexes each epoch.\n",
        "    \"\"\"\n",
        "    \n",
        "    def __init__(self, dataset, batch_size=1, shuffle=False):\n",
        "        self.dataset = dataset\n",
        "        self.batch_size = batch_size\n",
        "        self.shuffle = shuffle\n",
        "        self.indexes = np.arange(len(dataset))\n",
        "\n",
        "        self.on_epoch_end()\n",
        "\n",
        "    def __getitem__(self, i):\n",
        "        \n",
        "        # collect batch data\n",
        "        start = i * self.batch_size\n",
        "        stop = (i + 1) * self.batch_size\n",
        "        data = []\n",
        "        for j in range(start, stop):\n",
        "            data.append(self.dataset[j])\n",
        "        \n",
        "        # transpose list of lists\n",
        "        batch = [np.stack(samples, axis=0) for samples in zip(*data)]\n",
        "        \n",
        "        return batch\n",
        "    \n",
        "    def __len__(self):\n",
        "        \"\"\"Denotes the number of batches per epoch\"\"\"\n",
        "        return len(self.indexes) // self.batch_size\n",
        "    \n",
        "    def on_epoch_end(self):\n",
        "        \"\"\"Callback function to shuffle indexes each epoch\"\"\"\n",
        "        if self.shuffle:\n",
        "            self.indexes = np.random.permutation(self.indexes)  "
      ]
    },
    {
      "cell_type": "code",
      "execution_count": null,
      "metadata": {
        "id": "vccPn64Eb9qg"
      },
      "outputs": [],
      "source": [
        "# Lets look at data we have\n",
        "dataset = Dataset(x_train_dir, y_train_dir, classes=['background','strip'])\n",
        "\n",
        "image, mask = dataset[5] # get some sample\n",
        "\n",
        "visualize(\n",
        "    image=image, \n",
        "    bg_mask=mask[..., 0].squeeze(),\n",
        "    strip_mask=mask[..., 0].squeeze(),\n",
        ")"
      ]
    },
    {
      "cell_type": "code",
      "execution_count": null,
      "metadata": {
        "id": "4GOuc5S4cA9z"
      },
      "outputs": [],
      "source": [
        "## Dummy function as I am not going to use albumentations\n",
        "import albumentations as A\n",
        "def round_clip_0_1(x, **kwargs):\n",
        "    return x.round().clip(0, 1)\n",
        "\n",
        "# define heavy augmentations\n",
        "def get_training_augmentation():\n",
        "    return A.Compose([])\n",
        "\n",
        "def get_validation_augmentation():\n",
        "    return A.Compose([])\n",
        "\n",
        "def get_preprocessing(preprocessing_fn):\n",
        "    return A.Compose([])"
      ]
    },
    {
      "cell_type": "code",
      "execution_count": null,
      "metadata": {
        "id": "5fFquANlcHvG"
      },
      "outputs": [],
      "source": [
        "# Lets look at augmented data we have\n",
        "dataset = Dataset(x_train_dir, y_train_dir, classes=['background','strip'], augmentation=get_training_augmentation())\n",
        "\n",
        "image, mask = dataset[12] # get some sample\n",
        "visualize(\n",
        "    image=image, \n",
        "    strip_mask=mask[..., 0].squeeze(),\n",
        ")"
      ]
    },
    {
      "cell_type": "code",
      "execution_count": null,
      "metadata": {
        "id": "5MmBCIIzgJ5J"
      },
      "outputs": [],
      "source": [
        "import segmentation_models as sm\n",
        "sm.set_framework('tf.keras')\n",
        "sm.framework()\n",
        "\n",
        "\n",
        "BACKBONE = 'efficientnetb3'\n",
        "BATCH_SIZE = 8\n",
        "CLASSES = ['strip']\n",
        "LR = 0.0001\n",
        "EPOCHS = 10\n",
        "\n",
        "preprocess_input = sm.get_preprocessing(BACKBONE)\n",
        "n_classes = 1 if len(CLASSES) == 1 else (len(CLASSES) + 1)  # case for binary and multiclass segmentation\n",
        "activation = 'sigmoid' if n_classes == 1 else 'softmax'"
      ]
    },
    {
      "cell_type": "code",
      "execution_count": null,
      "metadata": {
        "id": "aT-DrfjmhHwx"
      },
      "outputs": [],
      "source": [
        "\n",
        "#create model \n",
        "model = sm.Unet(BACKBONE, classes=n_classes, activation=activation)\n",
        "\n",
        "# define optomizer\n",
        "optim = tf.keras.optimizers.Adam(LR)\n",
        "\n",
        "# Segmentation models losses can be combined together by '+' and scaled by integer or float factor\n",
        "dice_loss = sm.losses.DiceLoss()\n",
        "focal_loss = sm.losses.BinaryFocalLoss() if n_classes == 1 else sm.losses.CategoricalFocalLoss()\n",
        "total_loss = dice_loss + (1 * focal_loss)\n",
        "\n",
        "# actulally total_loss can be imported directly from library, above example just show you how to manipulate with losses\n",
        "# total_loss = sm.losses.binary_focal_dice_loss # or sm.losses.categorical_focal_dice_loss \n",
        "\n",
        "metrics = [sm.metrics.IOUScore(threshold=0.5), sm.metrics.FScore(threshold=0.5)]\n",
        "\n",
        "# compile keras model with defined optimozer, loss and metrics\n",
        "model.compile(optim, total_loss, metrics)"
      ]
    },
    {
      "cell_type": "code",
      "execution_count": null,
      "metadata": {
        "id": "pv12e8wmhYVj"
      },
      "outputs": [],
      "source": [
        "# Dataset for train images\n",
        "train_dataset = Dataset(x_train_dir, y_train_dir, classes=CLASSES)\n",
        "test_dataset = Dataset(x_test_dir, y_test_dir, classes=CLASSES)\n",
        "valid_dataset = Dataset(x_valid_dir, y_valid_dir, classes=CLASSES)\n",
        "\n",
        "\n",
        "train_dataloader = Dataloder(train_dataset, batch_size=BATCH_SIZE, shuffle=True)\n",
        "test_dataloader = Dataloder(test_dataset, batch_size=1, shuffle=False)\n",
        "valid_dataloader = Dataloder(valid_dataset, batch_size=1, shuffle=False)\n",
        "\n",
        "# check shapes for errors\n",
        "assert train_dataloader[0][0].shape == (BATCH_SIZE, 128, 128, 3)\n",
        "assert train_dataloader[0][1].shape == (BATCH_SIZE, 128, 128, n_classes)\n",
        "\n",
        "# define callbacks for learning rate scheduling and best checkpoints saving\n",
        "callbacks = [\n",
        "    keras.callbacks.ModelCheckpoint('./best_model.h5', save_weights_only=True, save_best_only=True, mode='min'),\n",
        "    keras.callbacks.ReduceLROnPlateau(),\n",
        "]"
      ]
    },
    {
      "cell_type": "code",
      "source": [
        "image, mask = train_dataset[12] # get some sample\n",
        "visualize(\n",
        "    image=image, \n",
        "    strip_mask=mask[..., 0].squeeze(),\n",
        ")"
      ],
      "metadata": {
        "id": "PzniDtMUAzLB"
      },
      "execution_count": null,
      "outputs": []
    },
    {
      "cell_type": "code",
      "execution_count": null,
      "metadata": {
        "id": "zYTpxlmcqbAf"
      },
      "outputs": [],
      "source": [
        "m_del = False\n",
        "if(m_del == True):\n",
        "  files = os.listdir('/content/data/mydataset/dataset/valannot/')\n",
        "  for m_file in files:\n",
        "    if(m_file == '.DS_Store'):\n",
        "      print(m_file)\n",
        "      os.remove('/content/data/mydataset/dataset/valannot/' + '.DS_Store')"
      ]
    },
    {
      "cell_type": "code",
      "source": [
        "model.load_weights('best_model.h5') "
      ],
      "metadata": {
        "id": "w1sEHtd3WI2U"
      },
      "execution_count": null,
      "outputs": []
    },
    {
      "cell_type": "code",
      "execution_count": null,
      "metadata": {
        "colab": {
          "base_uri": "https://localhost:8080/"
        },
        "id": "BHqX2T21heVC",
        "outputId": "655cb482-04c1-40d7-9063-4fab38385786"
      },
      "outputs": [
        {
          "output_type": "stream",
          "name": "stderr",
          "text": [
            "/usr/local/lib/python3.7/dist-packages/ipykernel_launcher.py:8: UserWarning: `Model.fit_generator` is deprecated and will be removed in a future version. Please use `Model.fit`, which supports generators.\n",
            "  \n"
          ]
        },
        {
          "output_type": "stream",
          "name": "stdout",
          "text": [
            "Epoch 1/10\n",
            "58/58 [==============================] - 144s 2s/step - loss: 0.0200 - iou_score: 0.9918 - f1-score: 0.9959 - val_loss: 0.0353 - val_iou_score: 0.9782 - val_f1-score: 0.9857 - lr: 1.0000e-04\n",
            "Epoch 2/10\n",
            "58/58 [==============================] - 143s 2s/step - loss: 0.0181 - iou_score: 0.9922 - f1-score: 0.9961 - val_loss: 0.0339 - val_iou_score: 0.9785 - val_f1-score: 0.9858 - lr: 1.0000e-04\n",
            "Epoch 3/10\n",
            "58/58 [==============================] - 146s 3s/step - loss: 0.0162 - iou_score: 0.9931 - f1-score: 0.9966 - val_loss: 0.0326 - val_iou_score: 0.9794 - val_f1-score: 0.9863 - lr: 1.0000e-04\n",
            "Epoch 4/10\n",
            "58/58 [==============================] - 141s 2s/step - loss: 0.0148 - iou_score: 0.9935 - f1-score: 0.9968 - val_loss: 0.0333 - val_iou_score: 0.9799 - val_f1-score: 0.9865 - lr: 1.0000e-04\n",
            "Epoch 5/10\n",
            "58/58 [==============================] - 140s 2s/step - loss: 0.0133 - iou_score: 0.9942 - f1-score: 0.9971 - val_loss: 0.0328 - val_iou_score: 0.9790 - val_f1-score: 0.9861 - lr: 1.0000e-04\n",
            "Epoch 6/10\n",
            "58/58 [==============================] - 140s 2s/step - loss: 0.0124 - iou_score: 0.9945 - f1-score: 0.9972 - val_loss: 0.0329 - val_iou_score: 0.9787 - val_f1-score: 0.9859 - lr: 1.0000e-04\n",
            "Epoch 7/10\n",
            "58/58 [==============================] - 141s 2s/step - loss: 0.0113 - iou_score: 0.9951 - f1-score: 0.9976 - val_loss: 0.0324 - val_iou_score: 0.9787 - val_f1-score: 0.9859 - lr: 1.0000e-04\n",
            "Epoch 8/10\n",
            "58/58 [==============================] - 140s 2s/step - loss: 0.0107 - iou_score: 0.9950 - f1-score: 0.9975 - val_loss: 0.0323 - val_iou_score: 0.9796 - val_f1-score: 0.9864 - lr: 1.0000e-04\n",
            "Epoch 9/10\n",
            "58/58 [==============================] - 140s 2s/step - loss: 0.0104 - iou_score: 0.9949 - f1-score: 0.9974 - val_loss: 0.0319 - val_iou_score: 0.9794 - val_f1-score: 0.9863 - lr: 1.0000e-04\n",
            "Epoch 10/10\n",
            "58/58 [==============================] - 142s 2s/step - loss: 0.0100 - iou_score: 0.9948 - f1-score: 0.9974 - val_loss: 0.0312 - val_iou_score: 0.9795 - val_f1-score: 0.9864 - lr: 1.0000e-04\n"
          ]
        }
      ],
      "source": [
        "# train model\n",
        "history = model.fit_generator(\n",
        "    train_dataloader, \n",
        "    steps_per_epoch=len(train_dataloader), \n",
        "    epochs=EPOCHS, \n",
        "    callbacks=callbacks, \n",
        "    validation_data=valid_dataloader, \n",
        "    validation_steps=len(valid_dataloader),\n",
        ")"
      ]
    },
    {
      "cell_type": "code",
      "execution_count": null,
      "metadata": {
        "colab": {
          "base_uri": "https://localhost:8080/",
          "height": 137
        },
        "id": "S8Fef2JwKlI3",
        "outputId": "9dba876e-1036-4952-ddda-8b712d1f1372"
      },
      "outputs": [
        {
          "output_type": "display_data",
          "data": {
            "image/png": "[encoded data removed]",
            "text/plain": [
              "<Figure size 2160x360 with 2 Axes>"
            ]
          },
          "metadata": {
            "needs_background": "light"
          }
        }
      ],
      "source": [
        "# Plot training & validation iou_score values\n",
        "plt.figure(figsize=(30, 5))\n",
        "plt.subplot(121)\n",
        "plt.plot(history.history['iou_score'])\n",
        "plt.plot(history.history['val_iou_score'])\n",
        "plt.title('Model iou_score')\n",
        "plt.ylabel('iou_score')\n",
        "plt.xlabel('Epoch')\n",
        "plt.legend(['Train', 'Test'], loc='upper left')\n",
        "\n",
        "# Plot training & validation loss values\n",
        "plt.subplot(122)\n",
        "plt.plot(history.history['loss'])\n",
        "plt.plot(history.history['val_loss'])\n",
        "plt.title('Model loss')\n",
        "plt.ylabel('Loss')\n",
        "plt.xlabel('Epoch')\n",
        "plt.legend(['Train', 'Test'], loc='upper left')\n",
        "plt.show()"
      ]
    },
    {
      "cell_type": "code",
      "execution_count": null,
      "metadata": {
        "id": "ic8Ze1caJ_Mc"
      },
      "outputs": [],
      "source": [
        "test_dataset = Dataset(\n",
        "    x_test_dir, \n",
        "    y_test_dir, \n",
        "    classes=CLASSES, \n",
        "    augmentation=get_validation_augmentation(),\n",
        "    preprocessing=get_preprocessing(preprocess_input),\n",
        ")\n",
        "\n",
        "test_dataloader = Dataloder(test_dataset, batch_size=1, shuffle=False)"
      ]
    },
    {
      "cell_type": "code",
      "execution_count": null,
      "metadata": {
        "id": "ttYuUjTAJ3-w"
      },
      "outputs": [],
      "source": [
        "model.load_weights('best_model.h5') \n",
        "\n",
        "n = 1\n",
        "ids = [7]\n",
        "for i in ids:\n",
        "    image, gt_mask = test_dataset[i]\n",
        "    image = np.expand_dims(image, axis=0)\n",
        "    pr_mask = model.predict(image).round()\n",
        "    visualize(\n",
        "        image=denormalize(image.squeeze()),\n",
        "        gt_mask=gt_mask[..., 0].squeeze(),\n",
        "        pr_mask=pr_mask[..., 0].squeeze(),\n",
        "    )"
      ]
    },
    {
      "cell_type": "code",
      "source": [
        "n = len(test_dataset)\n",
        "ids = np.random.choice(np.arange(len(test_dataset)), size=n)\n",
        "for i in ids:\n",
        "    image, gt_mask = test_dataset[i]\n",
        "    image = np.expand_dims(image, axis=0)\n",
        "    pr_mask = model.predict(image).round()\n",
        "\n",
        "    cluttered_img = image[0]\n",
        "    mask_img = pr_mask[0]\n",
        "    mask_img = mask_img.astype('uint8')\n",
        "    mask_img = mask_img[:,:,0]\n",
        "\n",
        "    r,g,b = cluttered_img[:,:,0],cluttered_img[:,:,1],cluttered_img[:,:,2]\n",
        "    rr = np.multiply(r,mask_img)\n",
        "    gg = np.multiply(g,mask_img)\n",
        "    bb = np.multiply(b,mask_img)\n",
        "    enhanced_img = cv2.merge((rr,gg,bb))\n",
        "    f_img = cv2.hconcat([cluttered_img,enhanced_img])\n",
        "    plt.imshow(f_img)\n",
        "    plt.show()\n",
        "\n",
        "    save_path = '/content/data/savedataset/IMG_' + str(i) + '.png'\n",
        "    f_img = cv2.cvtColor(f_img,cv2.COLOR_BGR2RGB)\n",
        "    cv2.imwrite(save_path,f_img)"
      ],
      "metadata": {
        "id": "boyfqJkdSxSI"
      },
      "execution_count": null,
      "outputs": []
    }
  ],
  "metadata": {
    "colab": {
      "collapsed_sections": [],
      "name": "Strip_Segmentation.ipynb",
      "provenance": []
    },
    "kernelspec": {
      "display_name": "Python 3",
      "name": "python3"
    },
    "language_info": {
      "name": "python"
    }
  },
  "nbformat": 4,
  "nbformat_minor": 0
}